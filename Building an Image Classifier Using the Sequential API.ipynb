{
 "cells": [
  {
   "cell_type": "markdown",
   "metadata": {},
   "source": [
    "### Installation\n",
    "![dark](https://user-images.githubusercontent.com/12748752/143572000-059f26cd-599d-4daf-a5ed-aa0dc1986965.png)\n"
   ]
  },
  {
   "cell_type": "code",
   "execution_count": null,
   "metadata": {},
   "outputs": [],
   "source": [
    "# $ cd $ML_PATH # Your ML working directory (e.g., $HOME/ml)\n",
    "# $ source env/bin/activate # on Linux or MacOSX\n",
    "# $ .\\env\\Scripts\\activate # on Windows"
   ]
  },
  {
   "cell_type": "code",
   "execution_count": 2,
   "metadata": {},
   "outputs": [],
   "source": [
    "import tensorflow as tf"
   ]
  },
  {
   "cell_type": "code",
   "execution_count": 3,
   "metadata": {},
   "outputs": [],
   "source": [
    "from tensorflow import keras"
   ]
  },
  {
   "cell_type": "code",
   "execution_count": 4,
   "metadata": {},
   "outputs": [
    {
     "data": {
      "text/plain": [
       "'2.0.0'"
      ]
     },
     "execution_count": 4,
     "metadata": {},
     "output_type": "execute_result"
    }
   ],
   "source": [
    "tf.__version__"
   ]
  },
  {
   "cell_type": "code",
   "execution_count": 5,
   "metadata": {},
   "outputs": [
    {
     "data": {
      "text/plain": [
       "'2.2.4-tf'"
      ]
     },
     "execution_count": 5,
     "metadata": {},
     "output_type": "execute_result"
    }
   ],
   "source": [
    "keras.__version__"
   ]
  },
  {
   "cell_type": "markdown",
   "metadata": {},
   "source": [
    "## Image Classification\n",
    "![dark](https://user-images.githubusercontent.com/12748752/143572000-059f26cd-599d-4daf-a5ed-aa0dc1986965.png)\n",
    "* Let’s load Fashion MNIST:\n",
    "* Train-Test split"
   ]
  },
  {
   "cell_type": "code",
   "execution_count": 6,
   "metadata": {},
   "outputs": [
    {
     "name": "stdout",
     "output_type": "stream",
     "text": [
      "Downloading data from https://storage.googleapis.com/tensorflow/tf-keras-datasets/train-labels-idx1-ubyte.gz\n",
      "32768/29515 [=================================] - 0s 2us/step\n",
      "Downloading data from https://storage.googleapis.com/tensorflow/tf-keras-datasets/train-images-idx3-ubyte.gz\n",
      "26427392/26421880 [==============================] - 5s 0us/step\n",
      "Downloading data from https://storage.googleapis.com/tensorflow/tf-keras-datasets/t10k-labels-idx1-ubyte.gz\n",
      "8192/5148 [===============================================] - 0s 2us/step\n",
      "Downloading data from https://storage.googleapis.com/tensorflow/tf-keras-datasets/t10k-images-idx3-ubyte.gz\n",
      "4423680/4422102 [==============================] - 1s 0us/step\n"
     ]
    }
   ],
   "source": [
    "fashion_mnist = keras.datasets.fashion_mnist\n",
    "(X_train_full, y_train_full), (X_test, y_test) = fashion_mnist.load_data()"
   ]
  },
  {
   "cell_type": "markdown",
   "metadata": {},
   "source": [
    "#### Difference between Sklearn MNIST loading and Kearas loading\n",
    "![loght](https://user-images.githubusercontent.com/12748752/143572007-3e36b5ab-287f-4659-bf18-efc819f97305.png)\n"
   ]
  },
  {
   "cell_type": "code",
   "execution_count": 7,
   "metadata": {},
   "outputs": [
    {
     "name": "stdout",
     "output_type": "stream",
     "text": [
      "(60000, 28, 28)\n",
      "uint8\n"
     ]
    }
   ],
   "source": [
    "print(X_train_full.shape)\n",
    "print(X_train_full.dtype)"
   ]
  },
  {
   "cell_type": "markdown",
   "metadata": {},
   "source": [
    "#### Creating validation set\n",
    "![loght](https://user-images.githubusercontent.com/12748752/143572007-3e36b5ab-287f-4659-bf18-efc819f97305.png)\n"
   ]
  },
  {
   "cell_type": "code",
   "execution_count": 9,
   "metadata": {},
   "outputs": [],
   "source": [
    "X_valid, X_train = X_train_full[:5000] / 255.0, X_train_full[5000:] / 255.0\n",
    "y_valid, y_train = y_train_full[:5000], y_train_full[5000:]"
   ]
  },
  {
   "cell_type": "code",
   "execution_count": 10,
   "metadata": {},
   "outputs": [],
   "source": [
    "class_names = [\"T-shirt/top\", \"Trouser\", \"Pullover\", \"Dress\", \"Coat\",\n",
    "\"Sandal\", \"Shirt\", \"Sneaker\", \"Bag\", \"Ankle boot\"]"
   ]
  },
  {
   "cell_type": "markdown",
   "metadata": {},
   "source": [
    "### Creating the Model Using the Sequential API\n",
    "![loght](https://user-images.githubusercontent.com/12748752/143572007-3e36b5ab-287f-4659-bf18-efc819f97305.png)\n"
   ]
  },
  {
   "cell_type": "code",
   "execution_count": 11,
   "metadata": {},
   "outputs": [],
   "source": [
    "model = keras.models.Sequential()\n",
    "model.add(keras.layers.Flatten(input_shape=[28, 28]))\n",
    "model.add(keras.layers.Dense(300, activation=\"relu\"))\n",
    "model.add(keras.layers.Dense(100, activation=\"relu\"))\n",
    "model.add(keras.layers.Dense(10, activation=\"softmax\"))"
   ]
  },
  {
   "cell_type": "markdown",
   "metadata": {},
   "source": [
    "#### Explanation\n",
    "![loght](https://user-images.githubusercontent.com/12748752/143572007-3e36b5ab-287f-4659-bf18-efc819f97305.png)\n",
    "\n",
    "* The first line creates a Sequential model. This is the simplest kind of Keras\n",
    "model, for neural networks that are just composed of a single stack of layers, connected\n",
    "sequentially. This is called the sequential API.\n",
    "* Next, we build the first layer and add it to the model. It is a Flatten layer whose\n",
    "role is simply to convert each input image into a 1D array: if it receives input data\n",
    "X, it computes `X.reshape(-1, 1)`. This layer does not have any parameters, it is\n",
    "just there to do some simple preprocessing. Since it is the first layer in the model,\n",
    "you should specify the input_shape: this does not include the batch size, only the\n",
    "shape of the instances. Alternatively, you could add a `keras.layers.InputLayer`\n",
    "as the first layer, setting `shape=[28,28]`.\n",
    "*  Next we add a Dense hidden layer with 300 neurons. It will use the ReLU activation\n",
    "function. Each Dense layer manages its own weight matrix, containing all the\n",
    "connection weights between the neurons and their inputs. It also manages a vector of bias terms (one per neuron). When it receives some input data, it computes  \n",
    "<img src=\"https://latex.codecogs.com/svg.image?h_{\\mathrm{W,b}}(\\mathrm{X})=\\phi&space;(XW&space;&plus;&space;b)\" title=\"h_{\\mathrm{W,b}}(\\mathrm{X})=\\phi (XW + b)\" />\n",
    "* Next we add a second Dense hidden layer with 100 neurons, also using the ReLU\n",
    "activation function.\n",
    "* Finally, we add a Dense output layer with 10 neurons (one per class), using the\n",
    "softmax activation function (because the classes are exclusive)."
   ]
  },
  {
   "cell_type": "markdown",
   "metadata": {},
   "source": [
    "> #### Instead of adding the layers one by one as we just did, you can pass a list of layers when creating the Sequential model:\n"
   ]
  },
  {
   "cell_type": "code",
   "execution_count": 12,
   "metadata": {},
   "outputs": [],
   "source": [
    "model = keras.models.Sequential([\n",
    "keras.layers.Flatten(input_shape=[28, 28]),\n",
    "keras.layers.Dense(300, activation=\"relu\"),\n",
    "keras.layers.Dense(100, activation=\"relu\"),\n",
    "keras.layers.Dense(10, activation=\"softmax\")\n",
    "])"
   ]
  },
  {
   "cell_type": "code",
   "execution_count": 13,
   "metadata": {},
   "outputs": [
    {
     "name": "stdout",
     "output_type": "stream",
     "text": [
      "Model: \"sequential_1\"\n",
      "_________________________________________________________________\n",
      "Layer (type)                 Output Shape              Param #   \n",
      "=================================================================\n",
      "flatten_1 (Flatten)          (None, 784)               0         \n",
      "_________________________________________________________________\n",
      "dense_3 (Dense)              (None, 300)               235500    \n",
      "_________________________________________________________________\n",
      "dense_4 (Dense)              (None, 100)               30100     \n",
      "_________________________________________________________________\n",
      "dense_5 (Dense)              (None, 10)                1010      \n",
      "=================================================================\n",
      "Total params: 266,610\n",
      "Trainable params: 266,610\n",
      "Non-trainable params: 0\n",
      "_________________________________________________________________\n"
     ]
    }
   ],
   "source": [
    "model.summary()"
   ]
  },
  {
   "cell_type": "markdown",
   "metadata": {},
   "source": [
    "* the first hidden layer has `784 × 300` connection weights, plus `300 bias` terms, which adds up to `235,500` parameters!\n",
    "* the second hidden layer has `300 x 100` connection weights, plus `100 bias` terms, which adds up to `30100` parameters!\n"
   ]
  },
  {
   "cell_type": "code",
   "execution_count": 26,
   "metadata": {},
   "outputs": [
    {
     "data": {
      "text/plain": [
       "[<tensorflow.python.keras.layers.core.Flatten at 0x2158c6afd30>,\n",
       " <tensorflow.python.keras.layers.core.Dense at 0x2158c6afef0>,\n",
       " <tensorflow.python.keras.layers.core.Dense at 0x215aa30e588>,\n",
       " <tensorflow.python.keras.layers.core.Dense at 0x215aa3206a0>]"
      ]
     },
     "execution_count": 26,
     "metadata": {},
     "output_type": "execute_result"
    }
   ],
   "source": [
    "model.layers"
   ]
  },
  {
   "cell_type": "code",
   "execution_count": 27,
   "metadata": {},
   "outputs": [
    {
     "data": {
      "text/plain": [
       "'dense_3'"
      ]
     },
     "execution_count": 27,
     "metadata": {},
     "output_type": "execute_result"
    }
   ],
   "source": [
    "model.layers[1].name"
   ]
  },
  {
   "cell_type": "code",
   "execution_count": 30,
   "metadata": {},
   "outputs": [],
   "source": [
    "weights, biases = model.layers[1].get_weights()"
   ]
  },
  {
   "cell_type": "code",
   "execution_count": 31,
   "metadata": {},
   "outputs": [
    {
     "data": {
      "text/plain": [
       "array([[-3.57105024e-02, -2.23791227e-02,  4.92519885e-03, ...,\n",
       "         2.13734582e-02,  2.09286809e-05, -1.16274282e-02],\n",
       "       [ 4.19773236e-02,  5.35594672e-02,  1.50851235e-02, ...,\n",
       "         2.46345252e-02, -7.42573440e-02, -9.44047421e-03],\n",
       "       [-7.22777992e-02,  6.64865077e-02, -1.05211511e-02, ...,\n",
       "        -8.71495903e-03,  2.01758668e-02, -7.06721321e-02],\n",
       "       ...,\n",
       "       [-3.77798192e-02, -3.18263210e-02,  5.15776575e-02, ...,\n",
       "        -2.62437016e-03,  4.60891426e-03,  3.32287624e-02],\n",
       "       [-3.26943956e-02,  1.81170702e-02,  6.89996183e-02, ...,\n",
       "        -3.43598723e-02,  2.74037793e-02,  1.42297521e-02],\n",
       "       [-3.69021669e-02, -4.64640595e-02, -5.04557155e-02, ...,\n",
       "         2.36101151e-02, -6.52072281e-02,  5.09284139e-02]], dtype=float32)"
      ]
     },
     "execution_count": 31,
     "metadata": {},
     "output_type": "execute_result"
    }
   ],
   "source": [
    "weights"
   ]
  },
  {
   "cell_type": "code",
   "execution_count": 32,
   "metadata": {},
   "outputs": [
    {
     "data": {
      "text/plain": [
       "(784, 300)"
      ]
     },
     "execution_count": 32,
     "metadata": {},
     "output_type": "execute_result"
    }
   ],
   "source": [
    "weights.shape"
   ]
  },
  {
   "cell_type": "code",
   "execution_count": 33,
   "metadata": {
    "scrolled": true
   },
   "outputs": [
    {
     "data": {
      "text/plain": [
       "array([0., 0., 0., 0., 0., 0., 0., 0., 0., 0., 0., 0., 0., 0., 0., 0., 0.,\n",
       "       0., 0., 0., 0., 0., 0., 0., 0., 0., 0., 0., 0., 0., 0., 0., 0., 0.,\n",
       "       0., 0., 0., 0., 0., 0., 0., 0., 0., 0., 0., 0., 0., 0., 0., 0., 0.,\n",
       "       0., 0., 0., 0., 0., 0., 0., 0., 0., 0., 0., 0., 0., 0., 0., 0., 0.,\n",
       "       0., 0., 0., 0., 0., 0., 0., 0., 0., 0., 0., 0., 0., 0., 0., 0., 0.,\n",
       "       0., 0., 0., 0., 0., 0., 0., 0., 0., 0., 0., 0., 0., 0., 0., 0., 0.,\n",
       "       0., 0., 0., 0., 0., 0., 0., 0., 0., 0., 0., 0., 0., 0., 0., 0., 0.,\n",
       "       0., 0., 0., 0., 0., 0., 0., 0., 0., 0., 0., 0., 0., 0., 0., 0., 0.,\n",
       "       0., 0., 0., 0., 0., 0., 0., 0., 0., 0., 0., 0., 0., 0., 0., 0., 0.,\n",
       "       0., 0., 0., 0., 0., 0., 0., 0., 0., 0., 0., 0., 0., 0., 0., 0., 0.,\n",
       "       0., 0., 0., 0., 0., 0., 0., 0., 0., 0., 0., 0., 0., 0., 0., 0., 0.,\n",
       "       0., 0., 0., 0., 0., 0., 0., 0., 0., 0., 0., 0., 0., 0., 0., 0., 0.,\n",
       "       0., 0., 0., 0., 0., 0., 0., 0., 0., 0., 0., 0., 0., 0., 0., 0., 0.,\n",
       "       0., 0., 0., 0., 0., 0., 0., 0., 0., 0., 0., 0., 0., 0., 0., 0., 0.,\n",
       "       0., 0., 0., 0., 0., 0., 0., 0., 0., 0., 0., 0., 0., 0., 0., 0., 0.,\n",
       "       0., 0., 0., 0., 0., 0., 0., 0., 0., 0., 0., 0., 0., 0., 0., 0., 0.,\n",
       "       0., 0., 0., 0., 0., 0., 0., 0., 0., 0., 0., 0., 0., 0., 0., 0., 0.,\n",
       "       0., 0., 0., 0., 0., 0., 0., 0., 0., 0., 0.], dtype=float32)"
      ]
     },
     "execution_count": 33,
     "metadata": {},
     "output_type": "execute_result"
    }
   ],
   "source": [
    "biases"
   ]
  },
  {
   "cell_type": "markdown",
   "metadata": {},
   "source": [
    "> #### The shape of the weight matrix depends on the number of inputs.\n",
    "* This is why it is recommended to specify the input_shape when creating the first layer in a `Sequential` model.\n",
    "*  However, if you do not specify the input shape, it’s okay: Keras will simply wait until it knows the input shape before it actually builds the model. This will\n",
    "happen either when you feed it actual data (e.g., during training),\n",
    "or when you call its build() method. Until the model is really\n",
    "built, the layers will not have any weights, and you will not be able\n",
    "to do certain things (such as print the model summary or save the\n",
    "model), so if you know the input shape when creating the model, it\n",
    "is best to specify it.\n",
    "\n",
    "\n",
    "#### Compiling the Model\n",
    "![loght](https://user-images.githubusercontent.com/12748752/143572007-3e36b5ab-287f-4659-bf18-efc819f97305.png)\n"
   ]
  },
  {
   "cell_type": "code",
   "execution_count": 35,
   "metadata": {},
   "outputs": [],
   "source": [
    "model.compile(loss=\"sparse_categorical_crossentropy\",\n",
    "optimizer=\"sgd\",\n",
    "metrics=[\"accuracy\"])"
   ]
  },
  {
   "cell_type": "markdown",
   "metadata": {},
   "source": [
    "#### Explanation\n",
    "![loght](https://user-images.githubusercontent.com/12748752/143572007-3e36b5ab-287f-4659-bf18-efc819f97305.png)\n",
    "* Loss function- **`sparse_categorical_crossen tropy`**  because \n",
    "    * sparse labels (i.e., for each instance there is just a target class index, from 0 to 9 in this case), and the classes are exclusive. \n",
    "    * We would need to use the `categorical_crossentropy` if we had one target probability per class for each instance (such as one-hot vectors).\n",
    "* Activation function-  **`softmax`**  \n",
    "    * If we were doing binary classification (with one or more binary labels), then we would use the **`sigmoid`** (i.e., logistic) activation function in the output layer and we would use the **`binary_crossentropy`** loss.\n",
    "    \n",
    "* Optimizer- **`sgd`**  (**Stochastic Gradient Descent**)\n",
    "    * Keras will perform the backpropagation algorithm described earlier (i.e., **reverse-mode autodiff + Gradient Descent**).\n",
    "    \n",
    "* Finally, since this is a classifier, it’s useful to measure its **`accuracy`** during training and evaluation."
   ]
  },
  {
   "cell_type": "markdown",
   "metadata": {},
   "source": [
    "#### Training the Model\n",
    "![loght](https://user-images.githubusercontent.com/12748752/143572007-3e36b5ab-287f-4659-bf18-efc819f97305.png)\n",
    "* `fit()` method using the batch_size argument, which defaults to 32"
   ]
  },
  {
   "cell_type": "code",
   "execution_count": 36,
   "metadata": {
    "scrolled": true
   },
   "outputs": [
    {
     "name": "stdout",
     "output_type": "stream",
     "text": [
      "Train on 55000 samples, validate on 5000 samples\n",
      "Epoch 1/30\n",
      "55000/55000 [==============================] - 7s 132us/sample - loss: 0.7242 - accuracy: 0.7599 - val_loss: 0.5172 - val_accuracy: 0.8270\n",
      "Epoch 2/30\n",
      "55000/55000 [==============================] - 4s 79us/sample - loss: 0.4928 - accuracy: 0.8277 - val_loss: 0.4680 - val_accuracy: 0.8386\n",
      "Epoch 3/30\n",
      "55000/55000 [==============================] - 4s 75us/sample - loss: 0.4458 - accuracy: 0.8436 - val_loss: 0.4140 - val_accuracy: 0.8602\n",
      "Epoch 4/30\n",
      "55000/55000 [==============================] - 4s 70us/sample - loss: 0.4181 - accuracy: 0.8524 - val_loss: 0.4312 - val_accuracy: 0.8510\n",
      "Epoch 5/30\n",
      "55000/55000 [==============================] - 4s 73us/sample - loss: 0.3956 - accuracy: 0.8615 - val_loss: 0.3879 - val_accuracy: 0.8660\n",
      "Epoch 6/30\n",
      "55000/55000 [==============================] - 4s 75us/sample - loss: 0.3792 - accuracy: 0.8659 - val_loss: 0.3704 - val_accuracy: 0.8698\n",
      "Epoch 7/30\n",
      "55000/55000 [==============================] - 4s 73us/sample - loss: 0.3665 - accuracy: 0.8708 - val_loss: 0.3704 - val_accuracy: 0.8708\n",
      "Epoch 8/30\n",
      "55000/55000 [==============================] - 4s 73us/sample - loss: 0.3532 - accuracy: 0.8756 - val_loss: 0.3565 - val_accuracy: 0.8758\n",
      "Epoch 9/30\n",
      "55000/55000 [==============================] - 4s 74us/sample - loss: 0.3434 - accuracy: 0.8778 - val_loss: 0.3508 - val_accuracy: 0.8780\n",
      "Epoch 10/30\n",
      "55000/55000 [==============================] - 4s 74us/sample - loss: 0.3333 - accuracy: 0.8810 - val_loss: 0.3420 - val_accuracy: 0.8780\n",
      "Epoch 11/30\n",
      "55000/55000 [==============================] - 4s 71us/sample - loss: 0.3242 - accuracy: 0.8842 - val_loss: 0.3384 - val_accuracy: 0.8828\n",
      "Epoch 12/30\n",
      "55000/55000 [==============================] - 4s 72us/sample - loss: 0.3167 - accuracy: 0.8866 - val_loss: 0.3395 - val_accuracy: 0.8794\n",
      "Epoch 13/30\n",
      "55000/55000 [==============================] - 4s 77us/sample - loss: 0.3087 - accuracy: 0.8901 - val_loss: 0.3268 - val_accuracy: 0.8838\n",
      "Epoch 14/30\n",
      "55000/55000 [==============================] - 4s 73us/sample - loss: 0.3020 - accuracy: 0.8911 - val_loss: 0.3228 - val_accuracy: 0.8856\n",
      "Epoch 15/30\n",
      "55000/55000 [==============================] - 4s 72us/sample - loss: 0.2961 - accuracy: 0.8939 - val_loss: 0.3190 - val_accuracy: 0.8862\n",
      "Epoch 16/30\n",
      "55000/55000 [==============================] - 4s 73us/sample - loss: 0.2894 - accuracy: 0.8960 - val_loss: 0.3156 - val_accuracy: 0.8882\n",
      "Epoch 17/30\n",
      "55000/55000 [==============================] - 4s 71us/sample - loss: 0.2839 - accuracy: 0.8976 - val_loss: 0.3175 - val_accuracy: 0.8858\n",
      "Epoch 18/30\n",
      "55000/55000 [==============================] - 4s 75us/sample - loss: 0.2786 - accuracy: 0.9009 - val_loss: 0.3298 - val_accuracy: 0.8806\n",
      "Epoch 19/30\n",
      "55000/55000 [==============================] - 4s 74us/sample - loss: 0.2728 - accuracy: 0.9015 - val_loss: 0.3211 - val_accuracy: 0.8818\n",
      "Epoch 20/30\n",
      "55000/55000 [==============================] - 4s 74us/sample - loss: 0.2672 - accuracy: 0.9043 - val_loss: 0.3013 - val_accuracy: 0.8910\n",
      "Epoch 21/30\n",
      "55000/55000 [==============================] - 4s 80us/sample - loss: 0.2634 - accuracy: 0.9053 - val_loss: 0.3075 - val_accuracy: 0.8890\n",
      "Epoch 22/30\n",
      "55000/55000 [==============================] - 4s 72us/sample - loss: 0.2593 - accuracy: 0.9067 - val_loss: 0.3029 - val_accuracy: 0.8922\n",
      "Epoch 23/30\n",
      "55000/55000 [==============================] - 4s 74us/sample - loss: 0.2532 - accuracy: 0.9089 - val_loss: 0.3069 - val_accuracy: 0.8880\n",
      "Epoch 24/30\n",
      "55000/55000 [==============================] - 4s 67us/sample - loss: 0.2497 - accuracy: 0.9101 - val_loss: 0.3047 - val_accuracy: 0.8870\n",
      "Epoch 25/30\n",
      "55000/55000 [==============================] - 4s 72us/sample - loss: 0.2447 - accuracy: 0.9114 - val_loss: 0.2961 - val_accuracy: 0.8916\n",
      "Epoch 26/30\n",
      "55000/55000 [==============================] - 4s 75us/sample - loss: 0.2421 - accuracy: 0.9138 - val_loss: 0.3050 - val_accuracy: 0.8908\n",
      "Epoch 27/30\n",
      "55000/55000 [==============================] - 4s 73us/sample - loss: 0.2361 - accuracy: 0.9152 - val_loss: 0.3165 - val_accuracy: 0.8868\n",
      "Epoch 28/30\n",
      "55000/55000 [==============================] - 4s 70us/sample - loss: 0.2332 - accuracy: 0.9159 - val_loss: 0.3165 - val_accuracy: 0.8852\n",
      "Epoch 29/30\n",
      "55000/55000 [==============================] - 4s 74us/sample - loss: 0.2293 - accuracy: 0.9182 - val_loss: 0.2967 - val_accuracy: 0.8954\n",
      "Epoch 30/30\n",
      "55000/55000 [==============================] - 4s 77us/sample - loss: 0.2263 - accuracy: 0.9195 - val_loss: 0.3157 - val_accuracy: 0.8818\n"
     ]
    }
   ],
   "source": [
    "history = model.fit(X_train, y_train, epochs=30, validation_data=(X_valid, y_valid))"
   ]
  },
  {
   "cell_type": "markdown",
   "metadata": {},
   "source": [
    "> #### The `fit()` method returns a History object containing the training parameters (`history.params`), the list of epochs it went through (`history.epoch`), and most importantly a _dictionary_ (`history.history`) containing the loss and extra metrics it measured at the end of each epoch on the training set and on the validation set (if any). "
   ]
  },
  {
   "cell_type": "markdown",
   "metadata": {},
   "source": [
    "#### Plot the result\n",
    "![loght](https://user-images.githubusercontent.com/12748752/143572007-3e36b5ab-287f-4659-bf18-efc819f97305.png)\n",
    "* If you create a Pandas DataFrame using this dictionary and call its `plot()` method you will get a curve."
   ]
  },
  {
   "cell_type": "code",
   "execution_count": 40,
   "metadata": {},
   "outputs": [],
   "source": [
    "from matplotlib import pyplot as plt"
   ]
  },
  {
   "cell_type": "markdown",
   "metadata": {},
   "source": [
    "> #### Need to add the above otherwise code will throw an erroe on `plot()`"
   ]
  },
  {
   "cell_type": "code",
   "execution_count": 41,
   "metadata": {},
   "outputs": [
    {
     "data": {
      "image/png": "[encoded data removed]",
      "text/plain": [
       "<Figure size 576x360 with 1 Axes>"
      ]
     },
     "metadata": {
      "needs_background": "light"
     },
     "output_type": "display_data"
    }
   ],
   "source": [
    "import pandas as pd\n",
    "pd.DataFrame(history.history).plot(figsize=(8, 5))\n",
    "plt.grid(True)\n",
    "plt.gca().set_ylim(0, 1) # set the vertical range to [0-1]\n",
    "plt.show()"
   ]
  },
  {
   "cell_type": "markdown",
   "metadata": {},
   "source": [
    "### Model Evalution\n",
    "![dark](https://user-images.githubusercontent.com/12748752/143572000-059f26cd-599d-4daf-a5ed-aa0dc1986965.png)\n",
    "* Once you are satisfied with your model’s validation accuracy, you should evaluate it on the test set to estimate the _generalization error_ before you deploy the model to production. \n",
    "* You can easily do this using the `evaluate()` method (it also supports several other arguments such as- `batch_size` or `sample_weight` etc."
   ]
  },
  {
   "cell_type": "code",
   "execution_count": 52,
   "metadata": {
    "scrolled": true
   },
   "outputs": [
    {
     "name": "stdout",
     "output_type": "stream",
     "text": [
      "10000/1 [==================================================================] - 0s 44us/sample - loss: 32.7245 - accuracy: 0.8450\n"
     ]
    },
    {
     "data": {
      "text/plain": [
       "[61.505231185778975, 0.845]"
      ]
     },
     "execution_count": 52,
     "metadata": {},
     "output_type": "execute_result"
    }
   ],
   "source": [
    "model.evaluate(X_test, y_test)"
   ]
  },
  {
   "cell_type": "markdown",
   "metadata": {},
   "source": [
    "### Using the Model to Make Predictions\n",
    "![dark](https://user-images.githubusercontent.com/12748752/143572000-059f26cd-599d-4daf-a5ed-aa0dc1986965.png)\n",
    "* Next, we can use the model’s predict() method to make predictions on new instances.\n",
    "* Since we don’t have actual new instances, we will just use the first 3 instances of the test set:"
   ]
  },
  {
   "cell_type": "code",
   "execution_count": 45,
   "metadata": {},
   "outputs": [
    {
     "data": {
      "text/plain": [
       "array([[0., 0., 0., 0., 0., 0., 0., 0., 0., 1.],\n",
       "       [0., 0., 1., 0., 0., 0., 0., 0., 0., 0.],\n",
       "       [0., 1., 0., 0., 0., 0., 0., 0., 0., 0.]], dtype=float32)"
      ]
     },
     "execution_count": 45,
     "metadata": {},
     "output_type": "execute_result"
    }
   ],
   "source": [
    "X_new = X_test[:3]\n",
    "y_proba = model.predict(X_new)\n",
    "y_proba.round(2)"
   ]
  },
  {
   "cell_type": "code",
   "execution_count": 48,
   "metadata": {},
   "outputs": [
    {
     "name": "stdout",
     "output_type": "stream",
     "text": [
      "[9 2 1]\n",
      "['Ankle boot' 'Pullover' 'Trouser']\n"
     ]
    }
   ],
   "source": [
    "import numpy as np\n",
    "y_pred = model.predict_classes(X_new)\n",
    "print(y_pred)\n",
    "print(np.array(class_names)[y_pred])"
   ]
  },
  {
   "cell_type": "markdown",
   "metadata": {},
   "source": [
    "> #### And the classifier actually classified all three images correctly:"
   ]
  },
  {
   "cell_type": "code",
   "execution_count": 49,
   "metadata": {},
   "outputs": [
    {
     "data": {
      "text/plain": [
       "array([9, 2, 1], dtype=uint8)"
      ]
     },
     "execution_count": 49,
     "metadata": {},
     "output_type": "execute_result"
    }
   ],
   "source": [
    "y_new = y_test[:3]\n",
    "y_new"
   ]
  },
  {
   "cell_type": "code",
   "execution_count": null,
   "metadata": {},
   "outputs": [],
   "source": []
  }
 ],
 "metadata": {
  "kernelspec": {
   "display_name": "Python 3",
   "language": "python",
   "name": "python3"
  },
  "language_info": {
   "codemirror_mode": {
    "name": "ipython",
    "version": 3
   },
   "file_extension": ".py",
   "mimetype": "text/x-python",
   "name": "python",
   "nbconvert_exporter": "python",
   "pygments_lexer": "ipython3",
   "version": "3.6.8"
  }
 },
 "nbformat": 4,
 "nbformat_minor": 4
}
